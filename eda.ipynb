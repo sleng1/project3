{
 "cells": [
  {
   "cell_type": "code",
   "execution_count": 1,
   "id": "0ee2d878",
   "metadata": {},
   "outputs": [],
   "source": [
    "import pandas as pd"
   ]
  },
  {
   "cell_type": "code",
   "execution_count": 51,
   "id": "e1098c0e",
   "metadata": {},
   "outputs": [],
   "source": [
    "df = pd.read_csv('2024_playoffs_data.csv')"
   ]
  },
  {
   "cell_type": "code",
   "execution_count": 7,
   "id": "6f2f0130",
   "metadata": {},
   "outputs": [
    {
     "data": {
      "text/plain": [
       "Index(['Rank', 'Player', 'Team', 'Age', 'GP', 'Wins', 'Losses', 'MIN', 'PTS',\n",
       "       'FGM', 'FGA', 'FG%', '3PM', '3PA', '3P%', 'FTM', 'FTA', 'FT%', 'OREB',\n",
       "       'DREB', 'REB', 'AST', 'TOV', 'STL', 'BLK', 'PF', 'FP', 'DD2', 'TD3',\n",
       "       'PlusMinus'],\n",
       "      dtype='object')"
      ]
     },
     "execution_count": 7,
     "metadata": {},
     "output_type": "execute_result"
    }
   ],
   "source": [
    "df.columns"
   ]
  },
  {
   "cell_type": "code",
   "execution_count": 11,
   "id": "68360757",
   "metadata": {},
   "outputs": [
    {
     "data": {
      "text/plain": [
       "{'BOS',\n",
       " 'CLE',\n",
       " 'DAL',\n",
       " 'DEN',\n",
       " 'IND',\n",
       " 'LAC',\n",
       " 'LAL',\n",
       " 'MIA',\n",
       " 'MIL',\n",
       " 'MIN',\n",
       " 'NOP',\n",
       " 'NYK',\n",
       " 'OKC',\n",
       " 'ORL',\n",
       " 'PHI',\n",
       " 'PHX',\n",
       " nan}"
      ]
     },
     "execution_count": 11,
     "metadata": {},
     "output_type": "execute_result"
    }
   ],
   "source": [
    "set(df['Team'])"
   ]
  },
  {
   "cell_type": "code",
   "execution_count": 31,
   "id": "1a9fcf8a",
   "metadata": {},
   "outputs": [],
   "source": [
    "def frexit(team):\n",
    "    if team in ['LAC', 'LAL', 'MIA', 'MIL', 'NOP', 'ORL', 'PHI', 'PHX']:\n",
    "        return \"Yes\"\n",
    "    return \"No\""
   ]
  },
  {
   "cell_type": "code",
   "execution_count": 32,
   "id": "ca7f2e45",
   "metadata": {},
   "outputs": [],
   "source": [
    "df['First Round Exit'] = df['Team'].apply(frexit)"
   ]
  },
  {
   "cell_type": "code",
   "execution_count": 50,
   "id": "8835d6b9",
   "metadata": {},
   "outputs": [],
   "source": [
    "df.to_csv('2024_playoffs_data.csv')"
   ]
  },
  {
   "cell_type": "code",
   "execution_count": 24,
   "id": "9ff6b73a",
   "metadata": {},
   "outputs": [
    {
     "data": {
      "text/plain": [
       "-17.8"
      ]
     },
     "execution_count": 24,
     "metadata": {},
     "output_type": "execute_result"
    }
   ],
   "source": [
    "df['PlusMinus'].min()"
   ]
  },
  {
   "cell_type": "code",
   "execution_count": 49,
   "id": "32a88510",
   "metadata": {},
   "outputs": [],
   "source": [
    "df = df.astype({\n",
    "    'Age': pd.Int64Dtype(),\n",
    "    'GP': pd.Int64Dtype(),\n",
    "    'Wins': pd.Int64Dtype(),\n",
    "    'Losses': pd.Int64Dtype(),\n",
    "})"
   ]
  },
  {
   "cell_type": "code",
   "execution_count": 52,
   "id": "186efdbc",
   "metadata": {},
   "outputs": [
    {
     "data": {
      "text/plain": [
       "Unnamed: 0.2          int64\n",
       "Unnamed: 0.1          int64\n",
       "Unnamed: 0            int64\n",
       "Rank                float64\n",
       "Player               object\n",
       "Team                 object\n",
       "Age                 float64\n",
       "GP                  float64\n",
       "Wins                float64\n",
       "Losses              float64\n",
       "MIN                 float64\n",
       "PTS                 float64\n",
       "FGM                 float64\n",
       "FGA                 float64\n",
       "FG%                 float64\n",
       "3PM                 float64\n",
       "3PA                 float64\n",
       "3P%                 float64\n",
       "FTM                 float64\n",
       "FTA                 float64\n",
       "FT%                 float64\n",
       "OREB                float64\n",
       "DREB                float64\n",
       "REB                 float64\n",
       "AST                 float64\n",
       "TOV                 float64\n",
       "STL                 float64\n",
       "BLK                 float64\n",
       "PF                  float64\n",
       "FP                  float64\n",
       "DD2                 float64\n",
       "TD3                 float64\n",
       "PlusMinus           float64\n",
       "First Round Exit     object\n",
       "dtype: object"
      ]
     },
     "execution_count": 52,
     "metadata": {},
     "output_type": "execute_result"
    }
   ],
   "source": [
    "df.dtypes"
   ]
  },
  {
   "cell_type": "code",
   "execution_count": null,
   "id": "855d7c9d",
   "metadata": {},
   "outputs": [],
   "source": []
  }
 ],
 "metadata": {
  "kernelspec": {
   "display_name": "Python 3 (ipykernel)",
   "language": "python",
   "name": "python3"
  },
  "language_info": {
   "codemirror_mode": {
    "name": "ipython",
    "version": 3
   },
   "file_extension": ".py",
   "mimetype": "text/x-python",
   "name": "python",
   "nbconvert_exporter": "python",
   "pygments_lexer": "ipython3",
   "version": "3.10.9"
  }
 },
 "nbformat": 4,
 "nbformat_minor": 5
}
